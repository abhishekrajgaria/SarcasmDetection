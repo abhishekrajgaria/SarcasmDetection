{
  "nbformat": 4,
  "nbformat_minor": 0,
  "metadata": {
    "colab": {
      "name": "NLP_Project.ipynb",
      "provenance": [],
      "collapsed_sections": []
    },
    "kernelspec": {
      "display_name": "Python 3",
      "name": "python3"
    },
    "widgets": {
      "application/vnd.jupyter.widget-state+json": {
        "37b971ee2c614906b76dc13229ff9366": {
          "model_module": "@jupyter-widgets/controls",
          "model_name": "HBoxModel",
          "state": {
            "_view_name": "HBoxView",
            "_dom_classes": [],
            "_model_name": "HBoxModel",
            "_view_module": "@jupyter-widgets/controls",
            "_model_module_version": "1.5.0",
            "_view_count": null,
            "_view_module_version": "1.5.0",
            "box_style": "",
            "layout": "IPY_MODEL_bb004ac6ec4e4b36a8c515a98db3bd77",
            "_model_module": "@jupyter-widgets/controls",
            "children": [
              "IPY_MODEL_47f77ecaa1ec474fbd822d5c32f0d8c3",
              "IPY_MODEL_0fb7c866fafe4e238166d9e11492b132"
            ]
          }
        },
        "bb004ac6ec4e4b36a8c515a98db3bd77": {
          "model_module": "@jupyter-widgets/base",
          "model_name": "LayoutModel",
          "state": {
            "_view_name": "LayoutView",
            "grid_template_rows": null,
            "right": null,
            "justify_content": null,
            "_view_module": "@jupyter-widgets/base",
            "overflow": null,
            "_model_module_version": "1.2.0",
            "_view_count": null,
            "flex_flow": null,
            "width": null,
            "min_width": null,
            "border": null,
            "align_items": null,
            "bottom": null,
            "_model_module": "@jupyter-widgets/base",
            "top": null,
            "grid_column": null,
            "overflow_y": null,
            "overflow_x": null,
            "grid_auto_flow": null,
            "grid_area": null,
            "grid_template_columns": null,
            "flex": null,
            "_model_name": "LayoutModel",
            "justify_items": null,
            "grid_row": null,
            "max_height": null,
            "align_content": null,
            "visibility": null,
            "align_self": null,
            "height": null,
            "min_height": null,
            "padding": null,
            "grid_auto_rows": null,
            "grid_gap": null,
            "max_width": null,
            "order": null,
            "_view_module_version": "1.2.0",
            "grid_template_areas": null,
            "object_position": null,
            "object_fit": null,
            "grid_auto_columns": null,
            "margin": null,
            "display": null,
            "left": null
          }
        },
        "47f77ecaa1ec474fbd822d5c32f0d8c3": {
          "model_module": "@jupyter-widgets/controls",
          "model_name": "FloatProgressModel",
          "state": {
            "_view_name": "ProgressView",
            "style": "IPY_MODEL_84b22670a7274625b7c4766cfeb3110d",
            "_dom_classes": [],
            "description": "Downloading: 100%",
            "_model_name": "FloatProgressModel",
            "bar_style": "success",
            "max": 231508,
            "_view_module": "@jupyter-widgets/controls",
            "_model_module_version": "1.5.0",
            "value": 231508,
            "_view_count": null,
            "_view_module_version": "1.5.0",
            "orientation": "horizontal",
            "min": 0,
            "description_tooltip": null,
            "_model_module": "@jupyter-widgets/controls",
            "layout": "IPY_MODEL_db243bc7405b439499a328bfef43df15"
          }
        },
        "0fb7c866fafe4e238166d9e11492b132": {
          "model_module": "@jupyter-widgets/controls",
          "model_name": "HTMLModel",
          "state": {
            "_view_name": "HTMLView",
            "style": "IPY_MODEL_0ecc3b086bbe4c658f06ce616fd5b224",
            "_dom_classes": [],
            "description": "",
            "_model_name": "HTMLModel",
            "placeholder": "​",
            "_view_module": "@jupyter-widgets/controls",
            "_model_module_version": "1.5.0",
            "value": " 232k/232k [00:00&lt;00:00, 299kB/s]",
            "_view_count": null,
            "_view_module_version": "1.5.0",
            "description_tooltip": null,
            "_model_module": "@jupyter-widgets/controls",
            "layout": "IPY_MODEL_a791ac28d9c74e0c83775ab12d0ab0eb"
          }
        },
        "84b22670a7274625b7c4766cfeb3110d": {
          "model_module": "@jupyter-widgets/controls",
          "model_name": "ProgressStyleModel",
          "state": {
            "_view_name": "StyleView",
            "_model_name": "ProgressStyleModel",
            "description_width": "initial",
            "_view_module": "@jupyter-widgets/base",
            "_model_module_version": "1.5.0",
            "_view_count": null,
            "_view_module_version": "1.2.0",
            "bar_color": null,
            "_model_module": "@jupyter-widgets/controls"
          }
        },
        "db243bc7405b439499a328bfef43df15": {
          "model_module": "@jupyter-widgets/base",
          "model_name": "LayoutModel",
          "state": {
            "_view_name": "LayoutView",
            "grid_template_rows": null,
            "right": null,
            "justify_content": null,
            "_view_module": "@jupyter-widgets/base",
            "overflow": null,
            "_model_module_version": "1.2.0",
            "_view_count": null,
            "flex_flow": null,
            "width": null,
            "min_width": null,
            "border": null,
            "align_items": null,
            "bottom": null,
            "_model_module": "@jupyter-widgets/base",
            "top": null,
            "grid_column": null,
            "overflow_y": null,
            "overflow_x": null,
            "grid_auto_flow": null,
            "grid_area": null,
            "grid_template_columns": null,
            "flex": null,
            "_model_name": "LayoutModel",
            "justify_items": null,
            "grid_row": null,
            "max_height": null,
            "align_content": null,
            "visibility": null,
            "align_self": null,
            "height": null,
            "min_height": null,
            "padding": null,
            "grid_auto_rows": null,
            "grid_gap": null,
            "max_width": null,
            "order": null,
            "_view_module_version": "1.2.0",
            "grid_template_areas": null,
            "object_position": null,
            "object_fit": null,
            "grid_auto_columns": null,
            "margin": null,
            "display": null,
            "left": null
          }
        },
        "0ecc3b086bbe4c658f06ce616fd5b224": {
          "model_module": "@jupyter-widgets/controls",
          "model_name": "DescriptionStyleModel",
          "state": {
            "_view_name": "StyleView",
            "_model_name": "DescriptionStyleModel",
            "description_width": "",
            "_view_module": "@jupyter-widgets/base",
            "_model_module_version": "1.5.0",
            "_view_count": null,
            "_view_module_version": "1.2.0",
            "_model_module": "@jupyter-widgets/controls"
          }
        },
        "a791ac28d9c74e0c83775ab12d0ab0eb": {
          "model_module": "@jupyter-widgets/base",
          "model_name": "LayoutModel",
          "state": {
            "_view_name": "LayoutView",
            "grid_template_rows": null,
            "right": null,
            "justify_content": null,
            "_view_module": "@jupyter-widgets/base",
            "overflow": null,
            "_model_module_version": "1.2.0",
            "_view_count": null,
            "flex_flow": null,
            "width": null,
            "min_width": null,
            "border": null,
            "align_items": null,
            "bottom": null,
            "_model_module": "@jupyter-widgets/base",
            "top": null,
            "grid_column": null,
            "overflow_y": null,
            "overflow_x": null,
            "grid_auto_flow": null,
            "grid_area": null,
            "grid_template_columns": null,
            "flex": null,
            "_model_name": "LayoutModel",
            "justify_items": null,
            "grid_row": null,
            "max_height": null,
            "align_content": null,
            "visibility": null,
            "align_self": null,
            "height": null,
            "min_height": null,
            "padding": null,
            "grid_auto_rows": null,
            "grid_gap": null,
            "max_width": null,
            "order": null,
            "_view_module_version": "1.2.0",
            "grid_template_areas": null,
            "object_position": null,
            "object_fit": null,
            "grid_auto_columns": null,
            "margin": null,
            "display": null,
            "left": null
          }
        },
        "a266f460ac9a4941a6b75d90947bfdc1": {
          "model_module": "@jupyter-widgets/controls",
          "model_name": "HBoxModel",
          "state": {
            "_view_name": "HBoxView",
            "_dom_classes": [],
            "_model_name": "HBoxModel",
            "_view_module": "@jupyter-widgets/controls",
            "_model_module_version": "1.5.0",
            "_view_count": null,
            "_view_module_version": "1.5.0",
            "box_style": "",
            "layout": "IPY_MODEL_617a3d9a36af42c1a064744adc8c64b0",
            "_model_module": "@jupyter-widgets/controls",
            "children": [
              "IPY_MODEL_09d72b2e8fe74497b9f47e97b1f4560c",
              "IPY_MODEL_522e45f04e9e485f8a72cb50f174d8c1"
            ]
          }
        },
        "617a3d9a36af42c1a064744adc8c64b0": {
          "model_module": "@jupyter-widgets/base",
          "model_name": "LayoutModel",
          "state": {
            "_view_name": "LayoutView",
            "grid_template_rows": null,
            "right": null,
            "justify_content": null,
            "_view_module": "@jupyter-widgets/base",
            "overflow": null,
            "_model_module_version": "1.2.0",
            "_view_count": null,
            "flex_flow": null,
            "width": null,
            "min_width": null,
            "border": null,
            "align_items": null,
            "bottom": null,
            "_model_module": "@jupyter-widgets/base",
            "top": null,
            "grid_column": null,
            "overflow_y": null,
            "overflow_x": null,
            "grid_auto_flow": null,
            "grid_area": null,
            "grid_template_columns": null,
            "flex": null,
            "_model_name": "LayoutModel",
            "justify_items": null,
            "grid_row": null,
            "max_height": null,
            "align_content": null,
            "visibility": null,
            "align_self": null,
            "height": null,
            "min_height": null,
            "padding": null,
            "grid_auto_rows": null,
            "grid_gap": null,
            "max_width": null,
            "order": null,
            "_view_module_version": "1.2.0",
            "grid_template_areas": null,
            "object_position": null,
            "object_fit": null,
            "grid_auto_columns": null,
            "margin": null,
            "display": null,
            "left": null
          }
        },
        "09d72b2e8fe74497b9f47e97b1f4560c": {
          "model_module": "@jupyter-widgets/controls",
          "model_name": "FloatProgressModel",
          "state": {
            "_view_name": "ProgressView",
            "style": "IPY_MODEL_fc2d84c505fd424da1865f50cea9e116",
            "_dom_classes": [],
            "description": "Downloading: 100%",
            "_model_name": "FloatProgressModel",
            "bar_style": "success",
            "max": 442,
            "_view_module": "@jupyter-widgets/controls",
            "_model_module_version": "1.5.0",
            "value": 442,
            "_view_count": null,
            "_view_module_version": "1.5.0",
            "orientation": "horizontal",
            "min": 0,
            "description_tooltip": null,
            "_model_module": "@jupyter-widgets/controls",
            "layout": "IPY_MODEL_ff3f1248ac404ca7abbadcf5ca18d9fb"
          }
        },
        "522e45f04e9e485f8a72cb50f174d8c1": {
          "model_module": "@jupyter-widgets/controls",
          "model_name": "HTMLModel",
          "state": {
            "_view_name": "HTMLView",
            "style": "IPY_MODEL_ee2cd7cec9114f3f8f8cf2299064f29b",
            "_dom_classes": [],
            "description": "",
            "_model_name": "HTMLModel",
            "placeholder": "​",
            "_view_module": "@jupyter-widgets/controls",
            "_model_module_version": "1.5.0",
            "value": " 442/442 [00:01&lt;00:00, 388B/s]",
            "_view_count": null,
            "_view_module_version": "1.5.0",
            "description_tooltip": null,
            "_model_module": "@jupyter-widgets/controls",
            "layout": "IPY_MODEL_e3f8e80b5f3345fe813a2325c3e90ab0"
          }
        },
        "fc2d84c505fd424da1865f50cea9e116": {
          "model_module": "@jupyter-widgets/controls",
          "model_name": "ProgressStyleModel",
          "state": {
            "_view_name": "StyleView",
            "_model_name": "ProgressStyleModel",
            "description_width": "initial",
            "_view_module": "@jupyter-widgets/base",
            "_model_module_version": "1.5.0",
            "_view_count": null,
            "_view_module_version": "1.2.0",
            "bar_color": null,
            "_model_module": "@jupyter-widgets/controls"
          }
        },
        "ff3f1248ac404ca7abbadcf5ca18d9fb": {
          "model_module": "@jupyter-widgets/base",
          "model_name": "LayoutModel",
          "state": {
            "_view_name": "LayoutView",
            "grid_template_rows": null,
            "right": null,
            "justify_content": null,
            "_view_module": "@jupyter-widgets/base",
            "overflow": null,
            "_model_module_version": "1.2.0",
            "_view_count": null,
            "flex_flow": null,
            "width": null,
            "min_width": null,
            "border": null,
            "align_items": null,
            "bottom": null,
            "_model_module": "@jupyter-widgets/base",
            "top": null,
            "grid_column": null,
            "overflow_y": null,
            "overflow_x": null,
            "grid_auto_flow": null,
            "grid_area": null,
            "grid_template_columns": null,
            "flex": null,
            "_model_name": "LayoutModel",
            "justify_items": null,
            "grid_row": null,
            "max_height": null,
            "align_content": null,
            "visibility": null,
            "align_self": null,
            "height": null,
            "min_height": null,
            "padding": null,
            "grid_auto_rows": null,
            "grid_gap": null,
            "max_width": null,
            "order": null,
            "_view_module_version": "1.2.0",
            "grid_template_areas": null,
            "object_position": null,
            "object_fit": null,
            "grid_auto_columns": null,
            "margin": null,
            "display": null,
            "left": null
          }
        },
        "ee2cd7cec9114f3f8f8cf2299064f29b": {
          "model_module": "@jupyter-widgets/controls",
          "model_name": "DescriptionStyleModel",
          "state": {
            "_view_name": "StyleView",
            "_model_name": "DescriptionStyleModel",
            "description_width": "",
            "_view_module": "@jupyter-widgets/base",
            "_model_module_version": "1.5.0",
            "_view_count": null,
            "_view_module_version": "1.2.0",
            "_model_module": "@jupyter-widgets/controls"
          }
        },
        "e3f8e80b5f3345fe813a2325c3e90ab0": {
          "model_module": "@jupyter-widgets/base",
          "model_name": "LayoutModel",
          "state": {
            "_view_name": "LayoutView",
            "grid_template_rows": null,
            "right": null,
            "justify_content": null,
            "_view_module": "@jupyter-widgets/base",
            "overflow": null,
            "_model_module_version": "1.2.0",
            "_view_count": null,
            "flex_flow": null,
            "width": null,
            "min_width": null,
            "border": null,
            "align_items": null,
            "bottom": null,
            "_model_module": "@jupyter-widgets/base",
            "top": null,
            "grid_column": null,
            "overflow_y": null,
            "overflow_x": null,
            "grid_auto_flow": null,
            "grid_area": null,
            "grid_template_columns": null,
            "flex": null,
            "_model_name": "LayoutModel",
            "justify_items": null,
            "grid_row": null,
            "max_height": null,
            "align_content": null,
            "visibility": null,
            "align_self": null,
            "height": null,
            "min_height": null,
            "padding": null,
            "grid_auto_rows": null,
            "grid_gap": null,
            "max_width": null,
            "order": null,
            "_view_module_version": "1.2.0",
            "grid_template_areas": null,
            "object_position": null,
            "object_fit": null,
            "grid_auto_columns": null,
            "margin": null,
            "display": null,
            "left": null
          }
        },
        "03055e3d2da4426bab1a53cc06ea0335": {
          "model_module": "@jupyter-widgets/controls",
          "model_name": "HBoxModel",
          "state": {
            "_view_name": "HBoxView",
            "_dom_classes": [],
            "_model_name": "HBoxModel",
            "_view_module": "@jupyter-widgets/controls",
            "_model_module_version": "1.5.0",
            "_view_count": null,
            "_view_module_version": "1.5.0",
            "box_style": "",
            "layout": "IPY_MODEL_03df61eac6314335b0fd79fe3f3febc5",
            "_model_module": "@jupyter-widgets/controls",
            "children": [
              "IPY_MODEL_e1cc98f52d73480385e54d9d91f57d12",
              "IPY_MODEL_a09e283420f440a4b9d6f3ff58179c75"
            ]
          }
        },
        "03df61eac6314335b0fd79fe3f3febc5": {
          "model_module": "@jupyter-widgets/base",
          "model_name": "LayoutModel",
          "state": {
            "_view_name": "LayoutView",
            "grid_template_rows": null,
            "right": null,
            "justify_content": null,
            "_view_module": "@jupyter-widgets/base",
            "overflow": null,
            "_model_module_version": "1.2.0",
            "_view_count": null,
            "flex_flow": null,
            "width": null,
            "min_width": null,
            "border": null,
            "align_items": null,
            "bottom": null,
            "_model_module": "@jupyter-widgets/base",
            "top": null,
            "grid_column": null,
            "overflow_y": null,
            "overflow_x": null,
            "grid_auto_flow": null,
            "grid_area": null,
            "grid_template_columns": null,
            "flex": null,
            "_model_name": "LayoutModel",
            "justify_items": null,
            "grid_row": null,
            "max_height": null,
            "align_content": null,
            "visibility": null,
            "align_self": null,
            "height": null,
            "min_height": null,
            "padding": null,
            "grid_auto_rows": null,
            "grid_gap": null,
            "max_width": null,
            "order": null,
            "_view_module_version": "1.2.0",
            "grid_template_areas": null,
            "object_position": null,
            "object_fit": null,
            "grid_auto_columns": null,
            "margin": null,
            "display": null,
            "left": null
          }
        },
        "e1cc98f52d73480385e54d9d91f57d12": {
          "model_module": "@jupyter-widgets/controls",
          "model_name": "FloatProgressModel",
          "state": {
            "_view_name": "ProgressView",
            "style": "IPY_MODEL_bd5fcbcd2f7645cd9568e788e7919e87",
            "_dom_classes": [],
            "description": "Downloading: 100%",
            "_model_name": "FloatProgressModel",
            "bar_style": "success",
            "max": 267967963,
            "_view_module": "@jupyter-widgets/controls",
            "_model_module_version": "1.5.0",
            "value": 267967963,
            "_view_count": null,
            "_view_module_version": "1.5.0",
            "orientation": "horizontal",
            "min": 0,
            "description_tooltip": null,
            "_model_module": "@jupyter-widgets/controls",
            "layout": "IPY_MODEL_bd20c24dd16d4583869da18905aa0dea"
          }
        },
        "a09e283420f440a4b9d6f3ff58179c75": {
          "model_module": "@jupyter-widgets/controls",
          "model_name": "HTMLModel",
          "state": {
            "_view_name": "HTMLView",
            "style": "IPY_MODEL_fd4778f11e094143856b3631a90269c7",
            "_dom_classes": [],
            "description": "",
            "_model_name": "HTMLModel",
            "placeholder": "​",
            "_view_module": "@jupyter-widgets/controls",
            "_model_module_version": "1.5.0",
            "value": " 268M/268M [04:14&lt;00:00, 1.05MB/s]",
            "_view_count": null,
            "_view_module_version": "1.5.0",
            "description_tooltip": null,
            "_model_module": "@jupyter-widgets/controls",
            "layout": "IPY_MODEL_ed884808086b40f8aaaccc4083b5dc68"
          }
        },
        "bd5fcbcd2f7645cd9568e788e7919e87": {
          "model_module": "@jupyter-widgets/controls",
          "model_name": "ProgressStyleModel",
          "state": {
            "_view_name": "StyleView",
            "_model_name": "ProgressStyleModel",
            "description_width": "initial",
            "_view_module": "@jupyter-widgets/base",
            "_model_module_version": "1.5.0",
            "_view_count": null,
            "_view_module_version": "1.2.0",
            "bar_color": null,
            "_model_module": "@jupyter-widgets/controls"
          }
        },
        "bd20c24dd16d4583869da18905aa0dea": {
          "model_module": "@jupyter-widgets/base",
          "model_name": "LayoutModel",
          "state": {
            "_view_name": "LayoutView",
            "grid_template_rows": null,
            "right": null,
            "justify_content": null,
            "_view_module": "@jupyter-widgets/base",
            "overflow": null,
            "_model_module_version": "1.2.0",
            "_view_count": null,
            "flex_flow": null,
            "width": null,
            "min_width": null,
            "border": null,
            "align_items": null,
            "bottom": null,
            "_model_module": "@jupyter-widgets/base",
            "top": null,
            "grid_column": null,
            "overflow_y": null,
            "overflow_x": null,
            "grid_auto_flow": null,
            "grid_area": null,
            "grid_template_columns": null,
            "flex": null,
            "_model_name": "LayoutModel",
            "justify_items": null,
            "grid_row": null,
            "max_height": null,
            "align_content": null,
            "visibility": null,
            "align_self": null,
            "height": null,
            "min_height": null,
            "padding": null,
            "grid_auto_rows": null,
            "grid_gap": null,
            "max_width": null,
            "order": null,
            "_view_module_version": "1.2.0",
            "grid_template_areas": null,
            "object_position": null,
            "object_fit": null,
            "grid_auto_columns": null,
            "margin": null,
            "display": null,
            "left": null
          }
        },
        "fd4778f11e094143856b3631a90269c7": {
          "model_module": "@jupyter-widgets/controls",
          "model_name": "DescriptionStyleModel",
          "state": {
            "_view_name": "StyleView",
            "_model_name": "DescriptionStyleModel",
            "description_width": "",
            "_view_module": "@jupyter-widgets/base",
            "_model_module_version": "1.5.0",
            "_view_count": null,
            "_view_module_version": "1.2.0",
            "_model_module": "@jupyter-widgets/controls"
          }
        },
        "ed884808086b40f8aaaccc4083b5dc68": {
          "model_module": "@jupyter-widgets/base",
          "model_name": "LayoutModel",
          "state": {
            "_view_name": "LayoutView",
            "grid_template_rows": null,
            "right": null,
            "justify_content": null,
            "_view_module": "@jupyter-widgets/base",
            "overflow": null,
            "_model_module_version": "1.2.0",
            "_view_count": null,
            "flex_flow": null,
            "width": null,
            "min_width": null,
            "border": null,
            "align_items": null,
            "bottom": null,
            "_model_module": "@jupyter-widgets/base",
            "top": null,
            "grid_column": null,
            "overflow_y": null,
            "overflow_x": null,
            "grid_auto_flow": null,
            "grid_area": null,
            "grid_template_columns": null,
            "flex": null,
            "_model_name": "LayoutModel",
            "justify_items": null,
            "grid_row": null,
            "max_height": null,
            "align_content": null,
            "visibility": null,
            "align_self": null,
            "height": null,
            "min_height": null,
            "padding": null,
            "grid_auto_rows": null,
            "grid_gap": null,
            "max_width": null,
            "order": null,
            "_view_module_version": "1.2.0",
            "grid_template_areas": null,
            "object_position": null,
            "object_fit": null,
            "grid_auto_columns": null,
            "margin": null,
            "display": null,
            "left": null
          }
        }
      }
    }
  },
  "cells": [
    {
      "cell_type": "code",
      "metadata": {
        "id": "5ZKOKj37rS98",
        "colab": {
          "base_uri": "https://localhost:8080/"
        },
        "outputId": "6947293d-7e15-4fc8-ff68-63f162f6428e"
      },
      "source": [
        "from google.colab import drive\n",
        "drive.mount('/content/drive')"
      ],
      "execution_count": 1,
      "outputs": [
        {
          "output_type": "stream",
          "text": [
            "Mounted at /content/drive\n"
          ],
          "name": "stdout"
        }
      ]
    },
    {
      "cell_type": "code",
      "metadata": {
        "colab": {
          "base_uri": "https://localhost:8080/"
        },
        "id": "WRsQ08UMH_tp",
        "outputId": "84bb09e8-4c2f-4609-92c9-2e4a9da820d5"
      },
      "source": [
        "cd /content/drive/MyDrive/MUStARD"
      ],
      "execution_count": 2,
      "outputs": [
        {
          "output_type": "stream",
          "text": [
            "/content/drive/.shortcut-targets-by-id/1l5Gm4knVqJokdeDfo6y-WQxqu7UDewFr/MUStARD\n"
          ],
          "name": "stdout"
        }
      ]
    },
    {
      "cell_type": "code",
      "metadata": {
        "colab": {
          "base_uri": "https://localhost:8080/"
        },
        "id": "qHC_gBIlLdxI",
        "outputId": "ff2ea97c-0032-49cf-bbc8-9d95cd6e2bfe"
      },
      "source": [
        "import nltk\n",
        "nltk.download('punkt')"
      ],
      "execution_count": null,
      "outputs": [
        {
          "output_type": "stream",
          "text": [
            "[nltk_data] Downloading package punkt to /root/nltk_data...\n",
            "[nltk_data]   Unzipping tokenizers/punkt.zip.\n"
          ],
          "name": "stdout"
        },
        {
          "output_type": "execute_result",
          "data": {
            "text/plain": [
              "True"
            ]
          },
          "metadata": {
            "tags": []
          },
          "execution_count": 20
        }
      ]
    },
    {
      "cell_type": "markdown",
      "metadata": {
        "id": "eXIv8Rm_RE-u"
      },
      "source": [
        "## LSTM"
      ]
    },
    {
      "cell_type": "code",
      "metadata": {
        "id": "jP4Xfad5P_4q"
      },
      "source": [
        "import tensorflow as tf\n",
        "import keras\n",
        "import keras.backend as K\n",
        "\n",
        "from keras.preprocessing.text import Tokenizer\n",
        "from keras.preprocessing.sequence import pad_sequences\n",
        "\n",
        "from keras.layers import Input, Concatenate, Conv2D, Flatten, Dense, Embedding, LSTM\n",
        "from keras.models import Model\n",
        "\n",
        "from sklearn.feature_extraction.text import CountVectorizer"
      ],
      "execution_count": 3,
      "outputs": []
    },
    {
      "cell_type": "code",
      "metadata": {
        "id": "uubK9UWsU6Jl"
      },
      "source": [
        "import pandas as pd\n",
        "text_data = pd.read_json('/content/drive/MyDrive/MUStARD/data/sarcasm_data.json')"
      ],
      "execution_count": 4,
      "outputs": []
    },
    {
      "cell_type": "code",
      "metadata": {
        "id": "hqhg__9qWNQC"
      },
      "source": [
        "text_data = text_data.transpose()"
      ],
      "execution_count": 5,
      "outputs": []
    },
    {
      "cell_type": "code",
      "metadata": {
        "colab": {
          "base_uri": "https://localhost:8080/"
        },
        "id": "l5kL0wfLWQHm",
        "outputId": "64837683-9249-46b3-f55a-71a52bd8953e"
      },
      "source": [
        "text_data.shape"
      ],
      "execution_count": 6,
      "outputs": [
        {
          "output_type": "execute_result",
          "data": {
            "text/plain": [
              "(690, 6)"
            ]
          },
          "metadata": {
            "tags": []
          },
          "execution_count": 6
        }
      ]
    },
    {
      "cell_type": "code",
      "metadata": {
        "colab": {
          "base_uri": "https://localhost:8080/"
        },
        "id": "2IcVTzweVaBi",
        "outputId": "eab89cc2-bd44-46d1-c655-bc51a2335761"
      },
      "source": [
        "text_data[text_data['sarcasm']==True].count()"
      ],
      "execution_count": null,
      "outputs": [
        {
          "output_type": "execute_result",
          "data": {
            "text/plain": [
              "utterance           345\n",
              "speaker             345\n",
              "context             345\n",
              "context_speakers    345\n",
              "show                345\n",
              "sarcasm             345\n",
              "dtype: int64"
            ]
          },
          "metadata": {
            "tags": []
          },
          "execution_count": 7
        }
      ]
    },
    {
      "cell_type": "code",
      "metadata": {
        "id": "-gDbBo2gnETI"
      },
      "source": [
        "cols = list(text_data.columns)\n",
        "cols.remove('sarcasm')\n",
        "X = text_data.loc[:,cols]\n",
        "Y = text_data.loc[:,'sarcasm']\n",
        "Y = Y.astype(int)"
      ],
      "execution_count": 7,
      "outputs": []
    },
    {
      "cell_type": "code",
      "metadata": {
        "colab": {
          "base_uri": "https://localhost:8080/",
          "height": 163,
          "referenced_widgets": [
            "37b971ee2c614906b76dc13229ff9366",
            "bb004ac6ec4e4b36a8c515a98db3bd77",
            "47f77ecaa1ec474fbd822d5c32f0d8c3",
            "0fb7c866fafe4e238166d9e11492b132",
            "84b22670a7274625b7c4766cfeb3110d",
            "db243bc7405b439499a328bfef43df15",
            "0ecc3b086bbe4c658f06ce616fd5b224",
            "a791ac28d9c74e0c83775ab12d0ab0eb",
            "a266f460ac9a4941a6b75d90947bfdc1",
            "617a3d9a36af42c1a064744adc8c64b0",
            "09d72b2e8fe74497b9f47e97b1f4560c",
            "522e45f04e9e485f8a72cb50f174d8c1",
            "fc2d84c505fd424da1865f50cea9e116",
            "ff3f1248ac404ca7abbadcf5ca18d9fb",
            "ee2cd7cec9114f3f8f8cf2299064f29b",
            "e3f8e80b5f3345fe813a2325c3e90ab0",
            "03055e3d2da4426bab1a53cc06ea0335",
            "03df61eac6314335b0fd79fe3f3febc5",
            "e1cc98f52d73480385e54d9d91f57d12",
            "a09e283420f440a4b9d6f3ff58179c75",
            "bd5fcbcd2f7645cd9568e788e7919e87",
            "bd20c24dd16d4583869da18905aa0dea",
            "fd4778f11e094143856b3631a90269c7",
            "ed884808086b40f8aaaccc4083b5dc68"
          ]
        },
        "id": "_uYRxc9zonDA",
        "outputId": "f955935f-dd3e-4f8e-d7a4-8cedd43b3d9f"
      },
      "source": [
        "from sent2vec.vectorizer import Vectorizer\n",
        "\n",
        "# sentences = [\n",
        "#     \"This is an awesome book to learn NLP.\",\n",
        "#     \"DistilBERT is an amazing NLP model.\",\n",
        "#     \"We can interchangeably use embedding, encoding, or vectorizing.\",\n",
        "# ]\n",
        "vectorizer = Vectorizer()\n",
        "vectorizer.bert(contexts)\n",
        "vectors = vectorizer.vectors"
      ],
      "execution_count": null,
      "outputs": [
        {
          "output_type": "display_data",
          "data": {
            "application/vnd.jupyter.widget-view+json": {
              "model_id": "37b971ee2c614906b76dc13229ff9366",
              "version_minor": 0,
              "version_major": 2
            },
            "text/plain": [
              "HBox(children=(FloatProgress(value=0.0, description='Downloading', max=231508.0, style=ProgressStyle(descripti…"
            ]
          },
          "metadata": {
            "tags": []
          }
        },
        {
          "output_type": "stream",
          "text": [
            "\n"
          ],
          "name": "stdout"
        },
        {
          "output_type": "display_data",
          "data": {
            "application/vnd.jupyter.widget-view+json": {
              "model_id": "a266f460ac9a4941a6b75d90947bfdc1",
              "version_minor": 0,
              "version_major": 2
            },
            "text/plain": [
              "HBox(children=(FloatProgress(value=0.0, description='Downloading', max=442.0, style=ProgressStyle(description_…"
            ]
          },
          "metadata": {
            "tags": []
          }
        },
        {
          "output_type": "stream",
          "text": [
            "\n"
          ],
          "name": "stdout"
        },
        {
          "output_type": "display_data",
          "data": {
            "application/vnd.jupyter.widget-view+json": {
              "model_id": "03055e3d2da4426bab1a53cc06ea0335",
              "version_minor": 0,
              "version_major": 2
            },
            "text/plain": [
              "HBox(children=(FloatProgress(value=0.0, description='Downloading', max=267967963.0, style=ProgressStyle(descri…"
            ]
          },
          "metadata": {
            "tags": []
          }
        },
        {
          "output_type": "stream",
          "text": [
            "\n"
          ],
          "name": "stdout"
        }
      ]
    },
    {
      "cell_type": "code",
      "metadata": {
        "colab": {
          "base_uri": "https://localhost:8080/"
        },
        "id": "8b7xA4pdw88C",
        "outputId": "0d33c98e-cbab-4b65-9265-b66eba3dabbd"
      },
      "source": [
        "contexts.shape"
      ],
      "execution_count": null,
      "outputs": [
        {
          "output_type": "execute_result",
          "data": {
            "text/plain": [
              "(690,)"
            ]
          },
          "metadata": {
            "tags": []
          },
          "execution_count": 9
        }
      ]
    },
    {
      "cell_type": "code",
      "metadata": {
        "id": "_h0Q9k9sgIs_"
      },
      "source": [
        "contexts = vectors"
      ],
      "execution_count": null,
      "outputs": []
    },
    {
      "cell_type": "code",
      "metadata": {
        "id": "IwJlVsqPP9sH"
      },
      "source": [
        "import numpy as np\n",
        "contexts = []\n",
        "for context in X['context']:\n",
        "  contexts.append(''.join(context))\n",
        "contexts = np.array(contexts)"
      ],
      "execution_count": 94,
      "outputs": []
    },
    {
      "cell_type": "code",
      "metadata": {
        "id": "R0C5KpgY6h4v"
      },
      "source": [
        "speaker_feat = CountVectorizer(ngram_range=(1,1), binary=True, min_df=1)\n",
        "\n",
        "speaker_feat.fit(X['speaker'])\n",
        "output = speaker_feat.transform(X['speaker'])\n",
        "speakers_df = pd.DataFrame.sparse.from_spmatrix(output, columns=speaker_feat.get_feature_names())"
      ],
      "execution_count": 117,
      "outputs": []
    },
    {
      "cell_type": "code",
      "metadata": {
        "id": "hJ73WUtAMnST"
      },
      "source": [
        "show_feat = CountVectorizer(ngram_range=(1,1), binary=True, min_df=1)\n",
        "\n",
        "show_feat.fit(X['show'])\n",
        "output = show_feat.transform(X['show'])\n",
        "show_df = pd.DataFrame.sparse.from_spmatrix(output, columns=show_feat.get_feature_names())"
      ],
      "execution_count": 120,
      "outputs": []
    },
    {
      "cell_type": "code",
      "metadata": {
        "id": "QtWYTv3-Mvmw"
      },
      "source": [
        "show_vectors = show_df.to_numpy()"
      ],
      "execution_count": 121,
      "outputs": []
    },
    {
      "cell_type": "code",
      "metadata": {
        "colab": {
          "base_uri": "https://localhost:8080/"
        },
        "id": "xM0vSUPDNPPS",
        "outputId": "e1ded321-793e-4c22-832b-f42209653bde"
      },
      "source": [
        "show_vectors[0]"
      ],
      "execution_count": 122,
      "outputs": [
        {
          "output_type": "execute_result",
          "data": {
            "text/plain": [
              "array([1, 0, 0, 0], dtype=int64)"
            ]
          },
          "metadata": {
            "tags": []
          },
          "execution_count": 122
        }
      ]
    },
    {
      "cell_type": "code",
      "metadata": {
        "id": "NyAFRADXMLi-"
      },
      "source": [
        "def join_context(l):\n",
        "    return \" \".join(l)\n",
        "\n",
        "X['joint_context_speakers'] = X['context_speakers'].apply(join_context)\n",
        "# X['joint_context_speakers'] = X[['joint_context_speakers','speaker']].apply(lambda x: ' '.join(x),axis=1)"
      ],
      "execution_count": 124,
      "outputs": []
    },
    {
      "cell_type": "code",
      "metadata": {
        "id": "RFSjDPxMMKg_"
      },
      "source": [
        "context_speaker_feat = CountVectorizer(ngram_range=(1,1), binary=True, min_df=1)\n",
        "\n",
        "context_speaker_feat.fit(X['joint_context_speakers'])\n",
        "output = context_speaker_feat.transform(X['joint_context_speakers'])\n",
        "context_speakers_df = pd.DataFrame.sparse.from_spmatrix(output, columns=context_speaker_feat.get_feature_names())"
      ],
      "execution_count": 125,
      "outputs": []
    },
    {
      "cell_type": "code",
      "metadata": {
        "id": "nYN4d24gMfEf"
      },
      "source": [
        "context_speakers_vectors = context_speakers_df.to_numpy()"
      ],
      "execution_count": 126,
      "outputs": []
    },
    {
      "cell_type": "code",
      "metadata": {
        "id": "GwdxtkY--0UF"
      },
      "source": [
        "speaker_vectors = speakers_df.to_numpy()"
      ],
      "execution_count": 123,
      "outputs": []
    },
    {
      "cell_type": "code",
      "metadata": {
        "colab": {
          "base_uri": "https://localhost:8080/"
        },
        "id": "paPGpKgvpazy",
        "outputId": "6350209a-d003-48b3-af3b-3b93b706c224"
      },
      "source": [
        "!pip install sent2vec"
      ],
      "execution_count": null,
      "outputs": [
        {
          "output_type": "stream",
          "text": [
            "Collecting sent2vec\n",
            "  Downloading https://files.pythonhosted.org/packages/4e/c6/1f57065edbc772d9529e4a5f75cb812f29bcc2bf59b8e4c34c8ecfd83fe3/sent2vec-0.2.0-py3-none-any.whl\n",
            "Collecting transformers\n",
            "\u001b[?25l  Downloading https://files.pythonhosted.org/packages/3a/83/e74092e7f24a08d751aa59b37a9fc572b2e4af3918cb66f7766c3affb1b4/transformers-3.5.1-py3-none-any.whl (1.3MB)\n",
            "\u001b[K     |████████████████████████████████| 1.3MB 4.2MB/s \n",
            "\u001b[?25hRequirement already satisfied: spacy in /usr/local/lib/python3.6/dist-packages (from sent2vec) (2.2.4)\n",
            "Requirement already satisfied: numpy in /usr/local/lib/python3.6/dist-packages (from sent2vec) (1.18.5)\n",
            "Requirement already satisfied: gensim in /usr/local/lib/python3.6/dist-packages (from sent2vec) (3.6.0)\n",
            "Requirement already satisfied: torch in /usr/local/lib/python3.6/dist-packages (from sent2vec) (1.7.0+cu101)\n",
            "Collecting tokenizers==0.9.3\n",
            "\u001b[?25l  Downloading https://files.pythonhosted.org/packages/4c/34/b39eb9994bc3c999270b69c9eea40ecc6f0e97991dba28282b9fd32d44ee/tokenizers-0.9.3-cp36-cp36m-manylinux1_x86_64.whl (2.9MB)\n",
            "\u001b[K     |████████████████████████████████| 2.9MB 43.3MB/s \n",
            "\u001b[?25hRequirement already satisfied: regex!=2019.12.17 in /usr/local/lib/python3.6/dist-packages (from transformers->sent2vec) (2019.12.20)\n",
            "Requirement already satisfied: dataclasses; python_version < \"3.7\" in /usr/local/lib/python3.6/dist-packages (from transformers->sent2vec) (0.8)\n",
            "Requirement already satisfied: filelock in /usr/local/lib/python3.6/dist-packages (from transformers->sent2vec) (3.0.12)\n",
            "Requirement already satisfied: tqdm>=4.27 in /usr/local/lib/python3.6/dist-packages (from transformers->sent2vec) (4.41.1)\n",
            "Collecting sentencepiece==0.1.91\n",
            "\u001b[?25l  Downloading https://files.pythonhosted.org/packages/d4/a4/d0a884c4300004a78cca907a6ff9a5e9fe4f090f5d95ab341c53d28cbc58/sentencepiece-0.1.91-cp36-cp36m-manylinux1_x86_64.whl (1.1MB)\n",
            "\u001b[K     |████████████████████████████████| 1.1MB 48.2MB/s \n",
            "\u001b[?25hRequirement already satisfied: protobuf in /usr/local/lib/python3.6/dist-packages (from transformers->sent2vec) (3.12.4)\n",
            "Collecting sacremoses\n",
            "\u001b[?25l  Downloading https://files.pythonhosted.org/packages/7d/34/09d19aff26edcc8eb2a01bed8e98f13a1537005d31e95233fd48216eed10/sacremoses-0.0.43.tar.gz (883kB)\n",
            "\u001b[K     |████████████████████████████████| 890kB 50.5MB/s \n",
            "\u001b[?25hRequirement already satisfied: requests in /usr/local/lib/python3.6/dist-packages (from transformers->sent2vec) (2.23.0)\n",
            "Requirement already satisfied: packaging in /usr/local/lib/python3.6/dist-packages (from transformers->sent2vec) (20.4)\n",
            "Requirement already satisfied: setuptools in /usr/local/lib/python3.6/dist-packages (from spacy->sent2vec) (50.3.2)\n",
            "Requirement already satisfied: srsly<1.1.0,>=1.0.2 in /usr/local/lib/python3.6/dist-packages (from spacy->sent2vec) (1.0.4)\n",
            "Requirement already satisfied: murmurhash<1.1.0,>=0.28.0 in /usr/local/lib/python3.6/dist-packages (from spacy->sent2vec) (1.0.4)\n",
            "Requirement already satisfied: catalogue<1.1.0,>=0.0.7 in /usr/local/lib/python3.6/dist-packages (from spacy->sent2vec) (1.0.0)\n",
            "Requirement already satisfied: wasabi<1.1.0,>=0.4.0 in /usr/local/lib/python3.6/dist-packages (from spacy->sent2vec) (0.8.0)\n",
            "Requirement already satisfied: plac<1.2.0,>=0.9.6 in /usr/local/lib/python3.6/dist-packages (from spacy->sent2vec) (1.1.3)\n",
            "Requirement already satisfied: cymem<2.1.0,>=2.0.2 in /usr/local/lib/python3.6/dist-packages (from spacy->sent2vec) (2.0.4)\n",
            "Requirement already satisfied: blis<0.5.0,>=0.4.0 in /usr/local/lib/python3.6/dist-packages (from spacy->sent2vec) (0.4.1)\n",
            "Requirement already satisfied: thinc==7.4.0 in /usr/local/lib/python3.6/dist-packages (from spacy->sent2vec) (7.4.0)\n",
            "Requirement already satisfied: preshed<3.1.0,>=3.0.2 in /usr/local/lib/python3.6/dist-packages (from spacy->sent2vec) (3.0.4)\n",
            "Requirement already satisfied: scipy>=0.18.1 in /usr/local/lib/python3.6/dist-packages (from gensim->sent2vec) (1.4.1)\n",
            "Requirement already satisfied: six>=1.5.0 in /usr/local/lib/python3.6/dist-packages (from gensim->sent2vec) (1.15.0)\n",
            "Requirement already satisfied: smart-open>=1.2.1 in /usr/local/lib/python3.6/dist-packages (from gensim->sent2vec) (3.0.0)\n",
            "Requirement already satisfied: future in /usr/local/lib/python3.6/dist-packages (from torch->sent2vec) (0.16.0)\n",
            "Requirement already satisfied: typing-extensions in /usr/local/lib/python3.6/dist-packages (from torch->sent2vec) (3.7.4.3)\n",
            "Requirement already satisfied: click in /usr/local/lib/python3.6/dist-packages (from sacremoses->transformers->sent2vec) (7.1.2)\n",
            "Requirement already satisfied: joblib in /usr/local/lib/python3.6/dist-packages (from sacremoses->transformers->sent2vec) (0.17.0)\n",
            "Requirement already satisfied: certifi>=2017.4.17 in /usr/local/lib/python3.6/dist-packages (from requests->transformers->sent2vec) (2020.11.8)\n",
            "Requirement already satisfied: idna<3,>=2.5 in /usr/local/lib/python3.6/dist-packages (from requests->transformers->sent2vec) (2.10)\n",
            "Requirement already satisfied: urllib3!=1.25.0,!=1.25.1,<1.26,>=1.21.1 in /usr/local/lib/python3.6/dist-packages (from requests->transformers->sent2vec) (1.24.3)\n",
            "Requirement already satisfied: chardet<4,>=3.0.2 in /usr/local/lib/python3.6/dist-packages (from requests->transformers->sent2vec) (3.0.4)\n",
            "Requirement already satisfied: pyparsing>=2.0.2 in /usr/local/lib/python3.6/dist-packages (from packaging->transformers->sent2vec) (2.4.7)\n",
            "Requirement already satisfied: importlib-metadata>=0.20; python_version < \"3.8\" in /usr/local/lib/python3.6/dist-packages (from catalogue<1.1.0,>=0.0.7->spacy->sent2vec) (2.0.0)\n",
            "Requirement already satisfied: zipp>=0.5 in /usr/local/lib/python3.6/dist-packages (from importlib-metadata>=0.20; python_version < \"3.8\"->catalogue<1.1.0,>=0.0.7->spacy->sent2vec) (3.4.0)\n",
            "Building wheels for collected packages: sacremoses\n",
            "  Building wheel for sacremoses (setup.py) ... \u001b[?25l\u001b[?25hdone\n",
            "  Created wheel for sacremoses: filename=sacremoses-0.0.43-cp36-none-any.whl size=893257 sha256=19c0fcb92cd1c6a77d0f20c689226005976bba3a3ea617d31178890e1198e0d9\n",
            "  Stored in directory: /root/.cache/pip/wheels/29/3c/fd/7ce5c3f0666dab31a50123635e6fb5e19ceb42ce38d4e58f45\n",
            "Successfully built sacremoses\n",
            "Installing collected packages: tokenizers, sentencepiece, sacremoses, transformers, sent2vec\n",
            "Successfully installed sacremoses-0.0.43 sent2vec-0.2.0 sentencepiece-0.1.91 tokenizers-0.9.3 transformers-3.5.1\n"
          ],
          "name": "stdout"
        }
      ]
    },
    {
      "cell_type": "code",
      "metadata": {
        "colab": {
          "base_uri": "https://localhost:8080/"
        },
        "id": "QKG7YRlvrZD_",
        "outputId": "cecb2874-dade-4275-e4a9-a2e593c612cb"
      },
      "source": [
        "from sklearn.model_selection import StratifiedKFold\n",
        "from sklearn.metrics import classification_report\n",
        "from sklearn.svm import SVC\n",
        "import numpy\n",
        "\n",
        "skf = StratifiedKFold(n_splits=5)\n",
        "skf.get_n_splits(X, Y)\n",
        "reports = []\n",
        "p = []\n",
        "for train_index,test_index in skf.split(X,Y):\n",
        "  # print(\"TRAIN:\", train_index, \"TEST:\", test_index)\n",
        "  X_train, X_val = X.iloc[train_index,:], X.iloc[test_index,:]\n",
        "  y_train, y_val = Y.iloc[train_index], Y.iloc[test_index]\n",
        "  t = Tokenizer()\n",
        "  t.fit_on_texts(X_train['utterance'])\n",
        "  t.fit_on_texts(contexts[train_index])\n",
        "  # print(len(t.word_index))\n",
        "  X_train_seq = t.texts_to_sequences(X_train['utterance'])\n",
        "  X_train_seq_c = t.texts_to_sequences(contexts[train_index])\n",
        "  X_val_seq = t.texts_to_sequences(X_val['utterance'])\n",
        "  X_val_seq_c = t.texts_to_sequences(contexts[test_index])\n",
        "\n",
        "  y_train = y_train.astype(int)\n",
        "  y_val = y_val.astype(int)\n",
        "\n",
        "  arr=[]\n",
        "  arr_c = []\n",
        "\n",
        "  for vec in X_train_seq:\n",
        "    arr.append(len(vec))\n",
        "\n",
        "  # for vec in X_train_seq_c:\n",
        "  #   arr_c.append(len(vec))\n",
        "\n",
        "  max_len = max(arr)\n",
        "  # print(max_len)\n",
        "  # print(max(arr_c))\n",
        "  X_train_seq = pad_sequences(X_train_seq, maxlen=max_len, padding='post')\n",
        "  X_train_seq_c = pad_sequences(X_train_seq_c,maxlen=50,padding='post')\n",
        "  X_val_seq = pad_sequences(X_val_seq,maxlen=max_len,padding='post')\n",
        "  X_val_seq_c = pad_sequences(X_val_seq_c,maxlen=50,padding='post')\n",
        "\n",
        "  embedding_matrix = get_emb_matrix(t)\n",
        "  # embedding_matrices.append(embedding_matrix)\n",
        "\n",
        "  # embedding_matrix = embedding_matrices[fold]\n",
        "  model,inter_output = get_model()\n",
        "  # model.fit([X_train_seq,contexts[train_index],speaker_vectors[train_index]],y_train.values.reshape(-1,1), epochs = 100,\n",
        "  #           batch_size=32)\n",
        "\n",
        "  model.fit([X_train_seq,X_train_seq_c,speaker_vectors[train_index],context_speakers_vectors[train_index],show_vectors[train_index]],y_train.values.reshape(-1,1), epochs = 25,\n",
        "            batch_size=32)\n",
        "  # svm_features = model.layers[5].output\n",
        "  # print(svm_features)\n",
        "  # svm_features = svm_features.tolist()\n",
        "\n",
        "  # feature_arr = list(svm_features)\n",
        "  # print(feature_arr)\n",
        "\n",
        "  # SVC.fit(svm_features,y_train)\n",
        "\n",
        "  outs = inter_output.predict([X_train_seq,X_train_seq_c,speaker_vectors[train_index],context_speakers_vectors[train_index],show_vectors[train_index]])\n",
        "  outs2 = model.predict([X_train_seq,X_train_seq_c,speaker_vectors[train_index],context_speakers_vectors[train_index],show_vectors[train_index]])\n",
        "\n",
        "  svm_features = outs\n",
        "\n",
        "  clf = SVC()\n",
        "  clf.fit(svm_features,y_train)\n",
        "  # print(outs2.shape)\n",
        "  # print(outs.shape)\n",
        "  # print(type(outs))\n",
        "  # print(X_val_seq.shape)\n",
        "  # print(vectors[test_index])\n",
        "  # print(speaker_vectors[test_index])\n",
        "  predictions = predict(inter_output,X_val_seq,X_val_seq_c,speaker_vectors[test_index],context_speakers_vectors[test_index],show_vectors[test_index],clf)\n",
        "  p.append(predictions)\n",
        "\n",
        "  reports.append(classification_report(y_val,predictions))\n"
      ],
      "execution_count": 130,
      "outputs": [
        {
          "output_type": "stream",
          "text": [
            "(None, 18227)\n",
            "(None, 11776)\n",
            "Tensor(\"flatten_116/Reshape:0\", shape=(None, 11776), dtype=float32)\n",
            "Epoch 1/25\n",
            "18/18 [==============================] - 13s 721ms/step - loss: 0.6762 - acc: 0.5906 - precision_57: 0.6190 - recall_57: 0.4710\n",
            "Epoch 2/25\n",
            "18/18 [==============================] - 13s 705ms/step - loss: 0.6305 - acc: 0.6612 - precision_57: 0.6745 - recall_57: 0.6232\n",
            "Epoch 3/25\n",
            "18/18 [==============================] - 13s 707ms/step - loss: 0.6028 - acc: 0.6938 - precision_57: 0.7166 - recall_57: 0.6413\n",
            "Epoch 4/25\n",
            "18/18 [==============================] - 13s 699ms/step - loss: 0.5815 - acc: 0.6866 - precision_57: 0.6667 - recall_57: 0.7464\n",
            "Epoch 5/25\n",
            "18/18 [==============================] - 12s 690ms/step - loss: 0.5594 - acc: 0.7482 - precision_57: 0.7438 - recall_57: 0.7572\n",
            "Epoch 6/25\n",
            "18/18 [==============================] - 13s 699ms/step - loss: 0.5403 - acc: 0.7554 - precision_57: 0.8406 - recall_57: 0.6304\n",
            "Epoch 7/25\n",
            "18/18 [==============================] - 12s 690ms/step - loss: 0.5275 - acc: 0.7482 - precision_57: 0.7528 - recall_57: 0.7391\n",
            "Epoch 8/25\n",
            "18/18 [==============================] - 12s 688ms/step - loss: 0.5074 - acc: 0.7953 - precision_57: 0.7880 - recall_57: 0.8080\n",
            "Epoch 9/25\n",
            "18/18 [==============================] - 13s 696ms/step - loss: 0.4904 - acc: 0.7989 - precision_57: 0.8090 - recall_57: 0.7826\n",
            "Epoch 10/25\n",
            "18/18 [==============================] - 12s 691ms/step - loss: 0.4646 - acc: 0.8370 - precision_57: 0.8750 - recall_57: 0.7862\n",
            "Epoch 11/25\n",
            "18/18 [==============================] - 13s 695ms/step - loss: 0.4489 - acc: 0.8623 - precision_57: 0.8676 - recall_57: 0.8551\n",
            "Epoch 12/25\n",
            "18/18 [==============================] - 13s 696ms/step - loss: 0.4244 - acc: 0.8587 - precision_57: 0.8587 - recall_57: 0.8587\n",
            "Epoch 13/25\n",
            "18/18 [==============================] - 13s 695ms/step - loss: 0.4207 - acc: 0.8478 - precision_57: 0.8636 - recall_57: 0.8261\n",
            "Epoch 14/25\n",
            "18/18 [==============================] - 12s 691ms/step - loss: 0.3967 - acc: 0.8895 - precision_57: 0.8967 - recall_57: 0.8804\n",
            "Epoch 15/25\n",
            "18/18 [==============================] - 12s 691ms/step - loss: 0.3825 - acc: 0.8841 - precision_57: 0.8841 - recall_57: 0.8841\n",
            "Epoch 16/25\n",
            "18/18 [==============================] - 13s 710ms/step - loss: 0.3609 - acc: 0.8986 - precision_57: 0.9015 - recall_57: 0.8949\n",
            "Epoch 17/25\n",
            "18/18 [==============================] - 12s 686ms/step - loss: 0.3383 - acc: 0.9094 - precision_57: 0.9154 - recall_57: 0.9022\n",
            "Epoch 18/25\n",
            "18/18 [==============================] - 12s 694ms/step - loss: 0.3274 - acc: 0.9185 - precision_57: 0.9110 - recall_57: 0.9275\n",
            "Epoch 19/25\n",
            "18/18 [==============================] - 12s 691ms/step - loss: 0.3145 - acc: 0.9293 - precision_57: 0.9472 - recall_57: 0.9094\n",
            "Epoch 20/25\n",
            "18/18 [==============================] - 13s 695ms/step - loss: 0.2949 - acc: 0.9402 - precision_57: 0.9233 - recall_57: 0.9601\n",
            "Epoch 21/25\n",
            "18/18 [==============================] - 12s 692ms/step - loss: 0.2836 - acc: 0.9366 - precision_57: 0.9414 - recall_57: 0.9312\n",
            "Epoch 22/25\n",
            "18/18 [==============================] - 12s 689ms/step - loss: 0.2778 - acc: 0.9348 - precision_57: 0.9380 - recall_57: 0.9312\n",
            "Epoch 23/25\n",
            "18/18 [==============================] - 12s 688ms/step - loss: 0.2720 - acc: 0.9239 - precision_57: 0.9179 - recall_57: 0.9312\n",
            "Epoch 24/25\n",
            "18/18 [==============================] - 12s 686ms/step - loss: 0.2443 - acc: 0.9438 - precision_57: 0.9520 - recall_57: 0.9348\n",
            "Epoch 25/25\n",
            "18/18 [==============================] - 12s 686ms/step - loss: 0.2309 - acc: 0.9547 - precision_57: 0.9631 - recall_57: 0.9457\n",
            "here\n",
            "(None, 23091)\n",
            "(None, 16640)\n",
            "Tensor(\"flatten_118/Reshape:0\", shape=(None, 16640), dtype=float32)\n",
            "Epoch 1/25\n",
            "18/18 [==============================] - 16s 895ms/step - loss: 0.6895 - acc: 0.5652 - precision_58: 0.5947 - recall_58: 0.4094\n",
            "Epoch 2/25\n",
            "18/18 [==============================] - 16s 880ms/step - loss: 0.6450 - acc: 0.6322 - precision_58: 0.6263 - recall_58: 0.6558\n",
            "Epoch 3/25\n",
            "18/18 [==============================] - 16s 871ms/step - loss: 0.6137 - acc: 0.6757 - precision_58: 0.6902 - recall_58: 0.6377\n",
            "Epoch 4/25\n",
            "18/18 [==============================] - 16s 865ms/step - loss: 0.5869 - acc: 0.7065 - precision_58: 0.7021 - recall_58: 0.7174\n",
            "Epoch 5/25\n",
            "18/18 [==============================] - 16s 877ms/step - loss: 0.5684 - acc: 0.7373 - precision_58: 0.7453 - recall_58: 0.7210\n",
            "Epoch 6/25\n",
            "18/18 [==============================] - 16s 864ms/step - loss: 0.5528 - acc: 0.7536 - precision_58: 0.7756 - recall_58: 0.7138\n",
            "Epoch 7/25\n",
            "18/18 [==============================] - 16s 870ms/step - loss: 0.5329 - acc: 0.7736 - precision_58: 0.7984 - recall_58: 0.7319\n",
            "Epoch 8/25\n",
            "18/18 [==============================] - 16s 864ms/step - loss: 0.5157 - acc: 0.7736 - precision_58: 0.7893 - recall_58: 0.7464\n",
            "Epoch 9/25\n",
            "18/18 [==============================] - 16s 867ms/step - loss: 0.5044 - acc: 0.7808 - precision_58: 0.7839 - recall_58: 0.7754\n",
            "Epoch 10/25\n",
            "18/18 [==============================] - 16s 868ms/step - loss: 0.4829 - acc: 0.8170 - precision_58: 0.8136 - recall_58: 0.8225\n",
            "Epoch 11/25\n",
            "18/18 [==============================] - 16s 866ms/step - loss: 0.4619 - acc: 0.8243 - precision_58: 0.8776 - recall_58: 0.7536\n",
            "Epoch 12/25\n",
            "18/18 [==============================] - 16s 868ms/step - loss: 0.4625 - acc: 0.7989 - precision_58: 0.8137 - recall_58: 0.7754\n",
            "Epoch 13/25\n",
            "18/18 [==============================] - 16s 884ms/step - loss: 0.4338 - acc: 0.8351 - precision_58: 0.8223 - recall_58: 0.8551\n",
            "Epoch 14/25\n",
            "18/18 [==============================] - 16s 867ms/step - loss: 0.4180 - acc: 0.8569 - precision_58: 0.8456 - recall_58: 0.8732\n",
            "Epoch 15/25\n",
            "18/18 [==============================] - 16s 871ms/step - loss: 0.4177 - acc: 0.8351 - precision_58: 0.8413 - recall_58: 0.8261\n",
            "Epoch 16/25\n",
            "18/18 [==============================] - 16s 868ms/step - loss: 0.3930 - acc: 0.8786 - precision_58: 0.9163 - recall_58: 0.8333\n",
            "Epoch 17/25\n",
            "18/18 [==============================] - 16s 868ms/step - loss: 0.3674 - acc: 0.8986 - precision_58: 0.9044 - recall_58: 0.8913\n",
            "Epoch 18/25\n",
            "18/18 [==============================] - 16s 872ms/step - loss: 0.3494 - acc: 0.9130 - precision_58: 0.9222 - recall_58: 0.9022\n",
            "Epoch 19/25\n",
            "18/18 [==============================] - 16s 869ms/step - loss: 0.3367 - acc: 0.9076 - precision_58: 0.9061 - recall_58: 0.9094\n",
            "Epoch 20/25\n",
            "18/18 [==============================] - 16s 877ms/step - loss: 0.3244 - acc: 0.9239 - precision_58: 0.9270 - recall_58: 0.9203\n",
            "Epoch 21/25\n",
            "18/18 [==============================] - 16s 884ms/step - loss: 0.3060 - acc: 0.9348 - precision_58: 0.9412 - recall_58: 0.9275\n",
            "Epoch 22/25\n",
            "18/18 [==============================] - 16s 868ms/step - loss: 0.3045 - acc: 0.9438 - precision_58: 0.9268 - recall_58: 0.9638\n",
            "Epoch 23/25\n",
            "18/18 [==============================] - 16s 868ms/step - loss: 0.2796 - acc: 0.9438 - precision_58: 0.9455 - recall_58: 0.9420\n",
            "Epoch 24/25\n",
            "18/18 [==============================] - 16s 874ms/step - loss: 0.2634 - acc: 0.9457 - precision_58: 0.9522 - recall_58: 0.9384\n",
            "Epoch 25/25\n",
            "18/18 [==============================] - 16s 874ms/step - loss: 0.2484 - acc: 0.9583 - precision_58: 0.9534 - recall_58: 0.9638\n",
            "here\n",
            "(None, 23091)\n",
            "(None, 16640)\n",
            "Tensor(\"flatten_120/Reshape:0\", shape=(None, 16640), dtype=float32)\n",
            "Epoch 1/25\n",
            "18/18 [==============================] - 16s 870ms/step - loss: 0.6824 - acc: 0.5833 - precision_59: 0.6162 - recall_59: 0.4420\n",
            "Epoch 2/25\n",
            "18/18 [==============================] - 16s 862ms/step - loss: 0.6484 - acc: 0.6268 - precision_59: 0.6842 - recall_59: 0.4710\n",
            "Epoch 3/25\n",
            "18/18 [==============================] - 15s 860ms/step - loss: 0.6193 - acc: 0.6449 - precision_59: 0.6325 - recall_59: 0.6920\n",
            "Epoch 4/25\n",
            "18/18 [==============================] - 16s 879ms/step - loss: 0.5947 - acc: 0.6993 - precision_59: 0.7311 - recall_59: 0.6304\n",
            "Epoch 5/25\n",
            "18/18 [==============================] - 16s 868ms/step - loss: 0.5725 - acc: 0.7246 - precision_59: 0.7480 - recall_59: 0.6775\n",
            "Epoch 6/25\n",
            "18/18 [==============================] - 16s 868ms/step - loss: 0.5530 - acc: 0.7500 - precision_59: 0.7805 - recall_59: 0.6957\n",
            "Epoch 7/25\n",
            "18/18 [==============================] - 16s 870ms/step - loss: 0.5408 - acc: 0.7500 - precision_59: 0.7875 - recall_59: 0.6848\n",
            "Epoch 8/25\n",
            "18/18 [==============================] - 16s 873ms/step - loss: 0.5198 - acc: 0.7717 - precision_59: 0.7698 - recall_59: 0.7754\n",
            "Epoch 9/25\n",
            "18/18 [==============================] - 16s 871ms/step - loss: 0.5026 - acc: 0.7826 - precision_59: 0.7708 - recall_59: 0.8043\n",
            "Epoch 10/25\n",
            "18/18 [==============================] - 16s 879ms/step - loss: 0.4851 - acc: 0.7989 - precision_59: 0.8185 - recall_59: 0.7681\n",
            "Epoch 11/25\n",
            "18/18 [==============================] - 16s 883ms/step - loss: 0.4788 - acc: 0.7971 - precision_59: 0.8130 - recall_59: 0.7717\n",
            "Epoch 12/25\n",
            "18/18 [==============================] - 16s 870ms/step - loss: 0.4478 - acc: 0.8279 - precision_59: 0.8724 - recall_59: 0.7681\n",
            "Epoch 13/25\n",
            "18/18 [==============================] - 16s 869ms/step - loss: 0.4320 - acc: 0.8678 - precision_59: 0.8859 - recall_59: 0.8442\n",
            "Epoch 14/25\n",
            "18/18 [==============================] - 16s 892ms/step - loss: 0.4105 - acc: 0.8841 - precision_59: 0.9046 - recall_59: 0.8587\n",
            "Epoch 15/25\n",
            "18/18 [==============================] - 16s 869ms/step - loss: 0.3950 - acc: 0.8949 - precision_59: 0.9192 - recall_59: 0.8659\n",
            "Epoch 16/25\n",
            "18/18 [==============================] - 16s 879ms/step - loss: 0.3802 - acc: 0.8913 - precision_59: 0.9154 - recall_59: 0.8623\n",
            "Epoch 17/25\n",
            "18/18 [==============================] - 16s 870ms/step - loss: 0.3553 - acc: 0.9058 - precision_59: 0.9242 - recall_59: 0.8841\n",
            "Epoch 18/25\n",
            "18/18 [==============================] - 16s 883ms/step - loss: 0.3392 - acc: 0.9149 - precision_59: 0.9321 - recall_59: 0.8949\n",
            "Epoch 19/25\n",
            "18/18 [==============================] - 16s 866ms/step - loss: 0.3244 - acc: 0.9312 - precision_59: 0.9407 - recall_59: 0.9203\n",
            "Epoch 20/25\n",
            "18/18 [==============================] - 16s 869ms/step - loss: 0.3077 - acc: 0.9438 - precision_59: 0.9455 - recall_59: 0.9420\n",
            "Epoch 21/25\n",
            "18/18 [==============================] - 16s 897ms/step - loss: 0.2896 - acc: 0.9384 - precision_59: 0.9384 - recall_59: 0.9384\n",
            "Epoch 22/25\n",
            "18/18 [==============================] - 16s 868ms/step - loss: 0.2753 - acc: 0.9402 - precision_59: 0.9517 - recall_59: 0.9275\n",
            "Epoch 23/25\n",
            "18/18 [==============================] - 16s 867ms/step - loss: 0.2611 - acc: 0.9420 - precision_59: 0.9420 - recall_59: 0.9420\n",
            "Epoch 24/25\n",
            "18/18 [==============================] - 16s 864ms/step - loss: 0.2425 - acc: 0.9638 - precision_59: 0.9604 - recall_59: 0.9674\n",
            "Epoch 25/25\n",
            "18/18 [==============================] - 16s 883ms/step - loss: 0.2318 - acc: 0.9547 - precision_59: 0.9564 - recall_59: 0.9529\n",
            "here\n",
            "(None, 23091)\n",
            "(None, 16640)\n",
            "Tensor(\"flatten_122/Reshape:0\", shape=(None, 16640), dtype=float32)\n",
            "Epoch 1/25\n",
            "18/18 [==============================] - 16s 871ms/step - loss: 0.6885 - acc: 0.5471 - precision_60: 0.5670 - recall_60: 0.3986\n",
            "Epoch 2/25\n",
            "18/18 [==============================] - 16s 871ms/step - loss: 0.6576 - acc: 0.6667 - precision_60: 0.7371 - recall_60: 0.5181\n",
            "Epoch 3/25\n",
            "18/18 [==============================] - 16s 882ms/step - loss: 0.6340 - acc: 0.6830 - precision_60: 0.6747 - recall_60: 0.7065\n",
            "Epoch 4/25\n",
            "18/18 [==============================] - 16s 883ms/step - loss: 0.6078 - acc: 0.7138 - precision_60: 0.7521 - recall_60: 0.6377\n",
            "Epoch 5/25\n",
            "18/18 [==============================] - 16s 872ms/step - loss: 0.5889 - acc: 0.7301 - precision_60: 0.7471 - recall_60: 0.6957\n",
            "Epoch 6/25\n",
            "18/18 [==============================] - 16s 873ms/step - loss: 0.5667 - acc: 0.7572 - precision_60: 0.7773 - recall_60: 0.7210\n",
            "Epoch 7/25\n",
            "18/18 [==============================] - 16s 900ms/step - loss: 0.5457 - acc: 0.7772 - precision_60: 0.8148 - recall_60: 0.7174\n",
            "Epoch 8/25\n",
            "18/18 [==============================] - 16s 881ms/step - loss: 0.5272 - acc: 0.7772 - precision_60: 0.7742 - recall_60: 0.7826\n",
            "Epoch 9/25\n",
            "18/18 [==============================] - 16s 886ms/step - loss: 0.5067 - acc: 0.8188 - precision_60: 0.8259 - recall_60: 0.8080\n",
            "Epoch 10/25\n",
            "18/18 [==============================] - 16s 890ms/step - loss: 0.4822 - acc: 0.8678 - precision_60: 0.8773 - recall_60: 0.8551\n",
            "Epoch 11/25\n",
            "18/18 [==============================] - 16s 880ms/step - loss: 0.4634 - acc: 0.8641 - precision_60: 0.8708 - recall_60: 0.8551\n",
            "Epoch 12/25\n",
            "18/18 [==============================] - 16s 878ms/step - loss: 0.4472 - acc: 0.8641 - precision_60: 0.8851 - recall_60: 0.8370\n",
            "Epoch 13/25\n",
            "18/18 [==============================] - 16s 874ms/step - loss: 0.4231 - acc: 0.8859 - precision_60: 0.8873 - recall_60: 0.8841\n",
            "Epoch 14/25\n",
            "18/18 [==============================] - 16s 899ms/step - loss: 0.4046 - acc: 0.9022 - precision_60: 0.9051 - recall_60: 0.8986\n",
            "Epoch 15/25\n",
            "18/18 [==============================] - 16s 884ms/step - loss: 0.3897 - acc: 0.9022 - precision_60: 0.9173 - recall_60: 0.8841\n",
            "Epoch 16/25\n",
            "18/18 [==============================] - 16s 886ms/step - loss: 0.3784 - acc: 0.8931 - precision_60: 0.8945 - recall_60: 0.8913\n",
            "Epoch 17/25\n",
            "18/18 [==============================] - 16s 886ms/step - loss: 0.3487 - acc: 0.9130 - precision_60: 0.9161 - recall_60: 0.9094\n",
            "Epoch 18/25\n",
            "18/18 [==============================] - 16s 898ms/step - loss: 0.3329 - acc: 0.9257 - precision_60: 0.9273 - recall_60: 0.9239\n",
            "Epoch 19/25\n",
            "18/18 [==============================] - 16s 882ms/step - loss: 0.3167 - acc: 0.9312 - precision_60: 0.9343 - recall_60: 0.9275\n",
            "Epoch 20/25\n",
            "18/18 [==============================] - 16s 879ms/step - loss: 0.3014 - acc: 0.9402 - precision_60: 0.9451 - recall_60: 0.9348\n",
            "Epoch 21/25\n",
            "18/18 [==============================] - 16s 895ms/step - loss: 0.2866 - acc: 0.9438 - precision_60: 0.9455 - recall_60: 0.9420\n",
            "Epoch 22/25\n",
            "18/18 [==============================] - 16s 875ms/step - loss: 0.2726 - acc: 0.9493 - precision_60: 0.9429 - recall_60: 0.9565\n",
            "Epoch 23/25\n",
            "18/18 [==============================] - 16s 876ms/step - loss: 0.2530 - acc: 0.9601 - precision_60: 0.9536 - recall_60: 0.9674\n",
            "Epoch 24/25\n",
            "18/18 [==============================] - 16s 881ms/step - loss: 0.2362 - acc: 0.9656 - precision_60: 0.9606 - recall_60: 0.9710\n",
            "Epoch 25/25\n",
            "18/18 [==============================] - 16s 896ms/step - loss: 0.2262 - acc: 0.9710 - precision_60: 0.9610 - recall_60: 0.9819\n",
            "here\n",
            "(None, 23091)\n",
            "(None, 16640)\n",
            "Tensor(\"flatten_124/Reshape:0\", shape=(None, 16640), dtype=float32)\n",
            "Epoch 1/25\n",
            "18/18 [==============================] - 17s 932ms/step - loss: 0.6860 - acc: 0.5254 - precision_61: 0.5180 - recall_61: 0.7283\n",
            "Epoch 2/25\n",
            "18/18 [==============================] - 16s 880ms/step - loss: 0.6542 - acc: 0.6051 - precision_61: 0.6082 - recall_61: 0.5906\n",
            "Epoch 3/25\n",
            "18/18 [==============================] - 16s 866ms/step - loss: 0.6283 - acc: 0.6703 - precision_61: 0.6880 - recall_61: 0.6232\n",
            "Epoch 4/25\n",
            "18/18 [==============================] - 16s 867ms/step - loss: 0.6153 - acc: 0.6576 - precision_61: 0.6390 - recall_61: 0.7246\n",
            "Epoch 5/25\n",
            "18/18 [==============================] - 16s 866ms/step - loss: 0.5912 - acc: 0.7536 - precision_61: 0.7632 - recall_61: 0.7355\n",
            "Epoch 6/25\n",
            "18/18 [==============================] - 16s 887ms/step - loss: 0.5784 - acc: 0.7283 - precision_61: 0.7188 - recall_61: 0.7500\n",
            "Epoch 7/25\n",
            "18/18 [==============================] - 17s 944ms/step - loss: 0.5596 - acc: 0.7645 - precision_61: 0.7684 - recall_61: 0.7572\n",
            "Epoch 8/25\n",
            "18/18 [==============================] - 16s 871ms/step - loss: 0.5421 - acc: 0.7862 - precision_61: 0.7782 - recall_61: 0.8007\n",
            "Epoch 9/25\n",
            "18/18 [==============================] - 16s 870ms/step - loss: 0.5227 - acc: 0.8098 - precision_61: 0.8301 - recall_61: 0.7790\n",
            "Epoch 10/25\n",
            "18/18 [==============================] - 16s 888ms/step - loss: 0.5074 - acc: 0.7917 - precision_61: 0.7766 - recall_61: 0.8188\n",
            "Epoch 11/25\n",
            "18/18 [==============================] - 16s 871ms/step - loss: 0.4941 - acc: 0.8297 - precision_61: 0.8500 - recall_61: 0.8007\n",
            "Epoch 12/25\n",
            "18/18 [==============================] - 16s 869ms/step - loss: 0.4695 - acc: 0.8496 - precision_61: 0.8339 - recall_61: 0.8732\n",
            "Epoch 13/25\n",
            "18/18 [==============================] - 16s 887ms/step - loss: 0.4565 - acc: 0.8388 - precision_61: 0.8281 - recall_61: 0.8551\n",
            "Epoch 14/25\n",
            "18/18 [==============================] - 16s 872ms/step - loss: 0.4406 - acc: 0.8424 - precision_61: 0.8513 - recall_61: 0.8297\n",
            "Epoch 15/25\n",
            "18/18 [==============================] - 16s 868ms/step - loss: 0.4268 - acc: 0.8732 - precision_61: 0.8601 - recall_61: 0.8913\n",
            "Epoch 16/25\n",
            "18/18 [==============================] - 16s 870ms/step - loss: 0.3993 - acc: 0.9022 - precision_61: 0.9081 - recall_61: 0.8949\n",
            "Epoch 17/25\n",
            "18/18 [==============================] - 16s 866ms/step - loss: 0.3878 - acc: 0.9058 - precision_61: 0.8889 - recall_61: 0.9275\n",
            "Epoch 18/25\n",
            "18/18 [==============================] - 16s 867ms/step - loss: 0.3770 - acc: 0.9094 - precision_61: 0.9007 - recall_61: 0.9203\n",
            "Epoch 19/25\n",
            "18/18 [==============================] - 18s 998ms/step - loss: 0.3502 - acc: 0.9203 - precision_61: 0.9234 - recall_61: 0.9167\n",
            "Epoch 20/25\n",
            "18/18 [==============================] - 16s 881ms/step - loss: 0.3320 - acc: 0.9293 - precision_61: 0.9217 - recall_61: 0.9384\n",
            "Epoch 21/25\n",
            "18/18 [==============================] - 16s 869ms/step - loss: 0.3221 - acc: 0.9203 - precision_61: 0.9203 - recall_61: 0.9203\n",
            "Epoch 22/25\n",
            "18/18 [==============================] - 16s 884ms/step - loss: 0.3024 - acc: 0.9475 - precision_61: 0.9427 - recall_61: 0.9529\n",
            "Epoch 23/25\n",
            "18/18 [==============================] - 16s 878ms/step - loss: 0.2894 - acc: 0.9529 - precision_61: 0.9496 - recall_61: 0.9565\n",
            "Epoch 24/25\n",
            "18/18 [==============================] - 16s 874ms/step - loss: 0.2743 - acc: 0.9601 - precision_61: 0.9568 - recall_61: 0.9638\n",
            "Epoch 25/25\n",
            "18/18 [==============================] - 16s 872ms/step - loss: 0.2673 - acc: 0.9493 - precision_61: 0.9627 - recall_61: 0.9348\n",
            "here\n"
          ],
          "name": "stdout"
        }
      ]
    },
    {
      "cell_type": "code",
      "metadata": {
        "id": "4Njxg2m-vG8m"
      },
      "source": [
        "def get_emb_matrix(t):\n",
        "  import numpy as np\n",
        "  embeddings_index = {}\n",
        "  f = open('/content/drive/MyDrive/MUStARD/data/glove.840B.300d.txt')\n",
        "  for line in f:\n",
        "      values = line.split()\n",
        "      word = values[0]\n",
        "      if(word in t.word_index):\n",
        "        st=1\n",
        "        if(len(values)>301):\n",
        "          st += len(values) - 301\n",
        "          coefs = np.asarray(values[st:], dtype='float32')\n",
        "          embeddings_index[word] = coefs\n",
        "        else:\n",
        "          coefs = np.asarray(values[1:], dtype='float32')\n",
        "          embeddings_index[word] = coefs\n",
        "  f.close()\n",
        "\n",
        "  print('Found %s word vectors.' % len(embeddings_index))\n",
        "\n",
        "  not_present_list = []\n",
        "  vocab_size = len(t.word_index) + 1\n",
        "  print('Loaded %s word vectors.' % len(embeddings_index))\n",
        "  embedding_matrix = np.zeros((vocab_size, len(embeddings_index['no'])))\n",
        "  for word, i in t.word_index.items():\n",
        "      if word in embeddings_index.keys():\n",
        "          embedding_vector = embeddings_index.get(word)\n",
        "      else:\n",
        "          not_present_list.append(word)\n",
        "      if embedding_vector is not None:\n",
        "          embedding_matrix[i] = embedding_vector\n",
        "      else:\n",
        "          embedding_matrix[i] = np.zeros(300)\n",
        "\n",
        "  return embedding_matrix"
      ],
      "execution_count": 19,
      "outputs": []
    },
    {
      "cell_type": "code",
      "metadata": {
        "id": "0A7t8cRx-_Tg"
      },
      "source": [
        "def predict(model,X_val_seq,vectors,vectors2,vectors3,vectors4,clf):\n",
        "  import numpy as np\n",
        "  from sklearn.metrics import precision_score,recall_score,f1_score\n",
        "  print(\"here\")\n",
        "  # print(vectors.all())  \n",
        "  probs = model.predict([X_val_seq,vectors,vectors2,vectors3,vectors4])\n",
        "\n",
        "  predicted = clf.predict(probs)\n",
        "  # print(\"here2\")\n",
        "  # predicted = []\n",
        "  # for p in probs:\n",
        "  #   if(p>=0.5):\n",
        "  #     predicted.append(1)\n",
        "  #   else:\n",
        "  #     predicted.append(0)\n",
        "\n",
        "  return np.reshape(predicted,(-1,1))"
      ],
      "execution_count": 129,
      "outputs": []
    },
    {
      "cell_type": "code",
      "metadata": {
        "colab": {
          "base_uri": "https://localhost:8080/"
        },
        "id": "ixdv0x_WXnIc",
        "outputId": "d5fe68ca-ebb7-44aa-ab97-f9e0851d6532"
      },
      "source": [
        "for r in reports:\n",
        "  print(r)"
      ],
      "execution_count": 131,
      "outputs": [
        {
          "output_type": "stream",
          "text": [
            "              precision    recall  f1-score   support\n",
            "\n",
            "           0       0.45      0.38      0.41        69\n",
            "           1       0.46      0.54      0.50        69\n",
            "\n",
            "    accuracy                           0.46       138\n",
            "   macro avg       0.46      0.46      0.45       138\n",
            "weighted avg       0.46      0.46      0.45       138\n",
            "\n",
            "              precision    recall  f1-score   support\n",
            "\n",
            "           0       0.59      0.59      0.59        69\n",
            "           1       0.59      0.58      0.58        69\n",
            "\n",
            "    accuracy                           0.59       138\n",
            "   macro avg       0.59      0.59      0.59       138\n",
            "weighted avg       0.59      0.59      0.59       138\n",
            "\n",
            "              precision    recall  f1-score   support\n",
            "\n",
            "           0       0.65      0.74      0.69        69\n",
            "           1       0.69      0.59      0.64        69\n",
            "\n",
            "    accuracy                           0.67       138\n",
            "   macro avg       0.67      0.67      0.66       138\n",
            "weighted avg       0.67      0.67      0.66       138\n",
            "\n",
            "              precision    recall  f1-score   support\n",
            "\n",
            "           0       0.60      0.90      0.72        69\n",
            "           1       0.80      0.41      0.54        69\n",
            "\n",
            "    accuracy                           0.65       138\n",
            "   macro avg       0.70      0.65      0.63       138\n",
            "weighted avg       0.70      0.65      0.63       138\n",
            "\n",
            "              precision    recall  f1-score   support\n",
            "\n",
            "           0       0.69      0.71      0.70        69\n",
            "           1       0.70      0.68      0.69        69\n",
            "\n",
            "    accuracy                           0.70       138\n",
            "   macro avg       0.70      0.70      0.70       138\n",
            "weighted avg       0.70      0.70      0.70       138\n",
            "\n"
          ],
          "name": "stdout"
        }
      ]
    },
    {
      "cell_type": "code",
      "metadata": {
        "id": "P6NQ0qc63hvA"
      },
      "source": [
        "from keras.regularizers import l2\n",
        "from keras.models import Sequential\n",
        "from keras.optimizers import Adam\n",
        "from keras.layers import Conv2D, ZeroPadding2D, Activation, Input, concatenate, Bidirectional\n",
        "from keras.models import Model\n",
        "\n",
        "from keras.layers.normalization import BatchNormalization\n",
        "from keras.layers.pooling import MaxPooling2D\n",
        "from keras.layers.merge import Concatenate\n",
        "from keras.layers.core import Lambda, Flatten, Dense\n",
        "from keras.initializers import glorot_uniform\n",
        "from keras.layers import Input, Dense, Flatten, GlobalMaxPool2D, GlobalAvgPool2D, Concatenate, Multiply, Dropout, Subtract, Add, Conv2D"
      ],
      "execution_count": 24,
      "outputs": []
    },
    {
      "cell_type": "code",
      "metadata": {
        "id": "s_Zcprk53lZt"
      },
      "source": [
        "def get_model():\n",
        "  input_1 = Input(shape=(X_train_seq.shape[1],))\n",
        "  input_2 = Input(shape=(X_train_seq_c.shape[1],))\n",
        "  input_3 = Input(shape=(speaker_vectors.shape[1],))\n",
        "  input_4 = Input(shape=(context_speakers_vectors.shape[1],))\n",
        "  input_5 = Input(shape=(show_vectors.shape[1],))\n",
        "  # input_5 = Input(shape=(200,))\n",
        "\n",
        "  common_embed = Embedding(name=\"synopsis_embedd\",input_dim =len(t.word_index)+1, \n",
        "                        output_dim=300,weights=[embedding_matrix], \n",
        "                        input_length=X_train_seq.shape[1],trainable=False) \n",
        "\n",
        "\n",
        "  lstm_1 = common_embed(input_1)\n",
        "  lstm_2 = common_embed(input_2)\n",
        "\n",
        "  common_lstm = LSTM(128,return_sequences=True, activation=\"relu\")\n",
        "\n",
        "  bidir = Bidirectional(common_lstm)\n",
        "  vector_1 = bidir(lstm_1)\n",
        "  vector_1 = Flatten()(vector_1)\n",
        "\n",
        "  # vector_2 = Flatten()(lstm_2)\n",
        "  vector_2 = common_lstm(lstm_2)\n",
        "  vector_2 = Flatten()(vector_2)\n",
        "\n",
        "  conc = Concatenate(axis=-1)([vector_1,vector_2])\n",
        "  conc = Concatenate(axis=-1)([conc,input_3,input_4,input_5])\n",
        "  print(conc.shape)\n",
        "  print(vector_1.shape)\n",
        "  print(vector_1)\n",
        "  # x3 = Subtract()([vector_1, vector_2])\n",
        "  # x3 = Multiply()([x3, x3])\n",
        "\n",
        "  # x1_ = Multiply()([vector_1, vector_1])\n",
        "  # x2_ = Multiply()([vector_2, vector_2])\n",
        "  # x4 = Subtract()([x1_, x2_])\n",
        "      \n",
        "      #https://stackoverflow.com/a/51003359/10650182\n",
        "  # x5 = Lambda(cosine_distance, output_shape=cos_dist_output_shape)([vector_1, vector_2])\n",
        "      \n",
        "  # conc = Concatenate(axis=-1)([x5,x4, x3])\n",
        "  # conc = Dropout(0.25)(conc)\n",
        "  # x1 = Dense(8000,activation='relu')(conc)\n",
        "  # x1 = Dropout(0.1)(x1)\n",
        "  x1 = Dense(1000, activation=\"relu\")(conc)\n",
        "  x = Dense(100, activation=\"relu\", name='conc_layer')(x1)\n",
        "  # x = Dropout(0.01)(x)\n",
        "  out = Dense(1, activation=\"sigmoid\", name = 'out')(x)\n",
        "  model = Model([input_1,input_2,input_3,input_4,input_5], [out])\n",
        "\n",
        "  inter_output_model = keras.Model(model.input, model.get_layer(name='conc_layer').output) \n",
        "                                    \n",
        "  model.compile(loss=[\"binary_crossentropy\"], metrics=['acc',tf.keras.metrics.Precision(),tf.keras.metrics.Recall()], optimizer=Adam(0.00001))\n",
        "  return model, inter_output_model"
      ],
      "execution_count": 128,
      "outputs": []
    },
    {
      "cell_type": "code",
      "metadata": {
        "colab": {
          "base_uri": "https://localhost:8080/"
        },
        "id": "vAta9hBWTj36",
        "outputId": "70937f74-2a5f-4a22-ba68-b2895f753619"
      },
      "source": [
        "model.summary()"
      ],
      "execution_count": null,
      "outputs": [
        {
          "output_type": "stream",
          "text": [
            "Model: \"functional_1\"\n",
            "__________________________________________________________________________________________________\n",
            "Layer (type)                    Output Shape         Param #     Connected to                     \n",
            "==================================================================================================\n",
            "input_1 (InputLayer)            [(None, 46)]         0                                            \n",
            "__________________________________________________________________________________________________\n",
            "synopsis_embedd (Embedding)     (None, 46, 300)      474300      input_1[0][0]                    \n",
            "__________________________________________________________________________________________________\n",
            "bidirectional (Bidirectional)   (None, 46, 128)      186880      synopsis_embedd[0][0]            \n",
            "__________________________________________________________________________________________________\n",
            "flatten (Flatten)               (None, 5888)         0           bidirectional[0][0]              \n",
            "__________________________________________________________________________________________________\n",
            "input_2 (InputLayer)            [(None, 768)]        0                                            \n",
            "__________________________________________________________________________________________________\n",
            "concatenate (Concatenate)       (None, 6656)         0           flatten[0][0]                    \n",
            "                                                                 input_2[0][0]                    \n",
            "__________________________________________________________________________________________________\n",
            "input_3 (InputLayer)            [(None, 22)]         0                                            \n",
            "__________________________________________________________________________________________________\n",
            "concatenate_1 (Concatenate)     (None, 6678)         0           concatenate[0][0]                \n",
            "                                                                 input_3[0][0]                    \n",
            "__________________________________________________________________________________________________\n",
            "dense (Dense)                   (None, 10000)        66790000    concatenate_1[0][0]              \n",
            "__________________________________________________________________________________________________\n",
            "dropout (Dropout)               (None, 10000)        0           dense[0][0]                      \n",
            "__________________________________________________________________________________________________\n",
            "dense_1 (Dense)                 (None, 1000)         10001000    dropout[0][0]                    \n",
            "__________________________________________________________________________________________________\n",
            "conc_layer (Dense)              (None, 100)          100100      dense_1[0][0]                    \n",
            "__________________________________________________________________________________________________\n",
            "out (Dense)                     (None, 1)            101         conc_layer[0][0]                 \n",
            "==================================================================================================\n",
            "Total params: 77,552,381\n",
            "Trainable params: 77,078,081\n",
            "Non-trainable params: 474,300\n",
            "__________________________________________________________________________________________________\n"
          ],
          "name": "stdout"
        }
      ]
    },
    {
      "cell_type": "code",
      "metadata": {
        "colab": {
          "base_uri": "https://localhost:8080/"
        },
        "id": "sKhhx_yxw3aM",
        "outputId": "a166d4eb-a87d-4aa4-f7e7-b580c2d5cbec"
      },
      "source": [
        "model.save('/content/drive/MyDrive/MUStARD')"
      ],
      "execution_count": 111,
      "outputs": [
        {
          "output_type": "stream",
          "text": [
            "INFO:tensorflow:Assets written to: /content/drive/MyDrive/MUStARD/assets\n"
          ],
          "name": "stdout"
        }
      ]
    }
  ]
}